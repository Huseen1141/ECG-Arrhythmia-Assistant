{
 "cells": [
  {
   "cell_type": "code",
   "execution_count": 1,
   "id": "3ef198e3",
   "metadata": {},
   "outputs": [],
   "source": [
    "import wfdb\n",
    "import numpy as np\n",
    "from collections import Counter\n",
    "\n",
    "# Load record 100 and annotations\n",
    "record = wfdb.rdrecord(\"../data/100\")\n",
    "fs = int(record.fs)\n",
    "sig = record.p_signal[:, 0]  # Lead I\n",
    "\n",
    "ann = wfdb.rdann(\"../data/100\", \"atr\")\n",
    "\n",
    "# Get beat locations and symbols\n",
    "beat_samples = np.array(ann.sample, dtype=int)\n",
    "beat_symbols = ann.symbol\n"
   ]
  },
  {
   "cell_type": "code",
   "execution_count": 6,
   "id": "15cb85e2",
   "metadata": {},
   "outputs": [
    {
     "name": "stdout",
     "output_type": "stream",
     "text": [
      "✅ Segmentation finished for record 200\n",
      "Segments: (178, 3600)\n",
      "Labels: (178,)\n",
      "Label counts: Counter({np.str_('NSR'): 177, np.str_('PVC'): 1})\n",
      "✅ Saved: record200_10s_overlap50.npz\n"
     ]
    }
   ],
   "source": [
    "# STEP: Load record 200 and annotations\n",
    "import wfdb\n",
    "import numpy as np\n",
    "from collections import Counter\n",
    "import os\n",
    "\n",
    "record = wfdb.rdrecord(\"../data/200\")          # ✅ changed from \"100\" to \"200\"\n",
    "fs = int(record.fs)\n",
    "sig = record.p_signal[:, 0]\n",
    "\n",
    "ann = wfdb.rdann(\"../data/200\", \"atr\")         # ✅ changed from \"100\" to \"200\"\n",
    "\n",
    "beat_samples = np.array(ann.sample, dtype=int)\n",
    "beat_symbols = ann.symbol\n",
    "\n",
    "# STEP: Map beat symbols to simplified class labels\n",
    "beat_to_class = {\n",
    "    'N': 'NSR', 'L': 'NSR', 'R': 'NSR', 'e': 'NSR', 'j': 'NSR',\n",
    "    'A': 'PAC', 'a': 'PAC', 'J': 'PAC', 'S': 'PAC',\n",
    "    'V': 'PVC', 'E': 'PVC',\n",
    "}\n",
    "\n",
    "def map_symbol(sym):\n",
    "    return beat_to_class.get(sym, 'OTHER')\n",
    "\n",
    "beat_classes = [map_symbol(s) for s in beat_symbols]\n",
    "\n",
    "# STEP: Segment the ECG into 10-second chunks\n",
    "window_sec = 10\n",
    "step_sec = 5\n",
    "win = window_sec * fs\n",
    "step = step_sec * fs\n",
    "\n",
    "X = []\n",
    "y = []\n",
    "\n",
    "def segment_label(start, end):\n",
    "    idx = np.where((beat_samples >= start) & (beat_samples < end))[0]\n",
    "    if len(idx) == 0:\n",
    "        return None\n",
    "    labels = [beat_classes[i] for i in idx]\n",
    "    c = Counter(labels)\n",
    "    label, count = c.most_common(1)[0]\n",
    "    if count / len(labels) < 0.6 or label == 'OTHER':\n",
    "        return None\n",
    "    return label\n",
    "\n",
    "for start in range(0, len(sig) - win, step):\n",
    "    end = start + win\n",
    "    label = segment_label(start, end)\n",
    "    if label is None:\n",
    "        continue\n",
    "    segment = sig[start:end].astype(np.float32)\n",
    "    m = segment.mean()\n",
    "    s = segment.std() if segment.std() > 1e-6 else 1.0\n",
    "    segment = (segment - m) / s\n",
    "    X.append(segment)\n",
    "    y.append(label)\n",
    "\n",
    "X = np.stack(X)\n",
    "y = np.array(y)\n",
    "\n",
    "print(\"✅ Segmentation finished for record 200\")\n",
    "print(\"Segments:\", X.shape)\n",
    "print(\"Labels:\", y.shape)\n",
    "print(\"Label counts:\", Counter(y))\n",
    "\n",
    "# STEP: Save segmented dataset\n",
    "os.makedirs(\"../data/segments\", exist_ok=True)\n",
    "np.savez(\"../data/segments/record200_10s_overlap50.npz\", X=X, y=y)\n",
    "print(\"✅ Saved: record200_10s_overlap50.npz\")\n"
   ]
  },
  {
   "cell_type": "code",
   "execution_count": 7,
   "id": "60a87a63",
   "metadata": {},
   "outputs": [
    {
     "name": "stdout",
     "output_type": "stream",
     "text": [
      "✅ Segmentation finished for record 203\n",
      "Segments: (336, 3600)\n",
      "Labels: (336,)\n",
      "Label counts: Counter({np.str_('NSR'): 335, np.str_('PVC'): 1})\n",
      "✅ Saved: record203_10s_overlap50.npz\n"
     ]
    }
   ],
   "source": [
    "# STEP: Load record 203 and annotations\n",
    "import wfdb\n",
    "import numpy as np\n",
    "from collections import Counter\n",
    "import os\n",
    "\n",
    "record = wfdb.rdrecord(\"../data/203\")\n",
    "fs = int(record.fs)\n",
    "sig = record.p_signal[:, 0]\n",
    "\n",
    "ann = wfdb.rdann(\"../data/203\", \"atr\")\n",
    "\n",
    "beat_samples = np.array(ann.sample, dtype=int)\n",
    "beat_symbols = ann.symbol\n",
    "\n",
    "# Map beat symbols to class labels\n",
    "beat_to_class = {\n",
    "    'N': 'NSR', 'L': 'NSR', 'R': 'NSR', 'e': 'NSR', 'j': 'NSR',\n",
    "    'A': 'PAC', 'a': 'PAC', 'J': 'PAC', 'S': 'PAC',\n",
    "    'V': 'PVC', 'E': 'PVC',\n",
    "}\n",
    "\n",
    "def map_symbol(sym):\n",
    "    return beat_to_class.get(sym, 'OTHER')\n",
    "\n",
    "beat_classes = [map_symbol(s) for s in beat_symbols]\n",
    "\n",
    "# Segment the ECG\n",
    "window_sec = 10\n",
    "step_sec = 5\n",
    "win = window_sec * fs\n",
    "step = step_sec * fs\n",
    "\n",
    "X = []\n",
    "y = []\n",
    "\n",
    "def segment_label(start, end):\n",
    "    idx = np.where((beat_samples >= start) & (beat_samples < end))[0]\n",
    "    if len(idx) == 0:\n",
    "        return None\n",
    "    labels = [beat_classes[i] for i in idx]\n",
    "    c = Counter(labels)\n",
    "    label, count = c.most_common(1)[0]\n",
    "    if count / len(labels) < 0.6 or label == 'OTHER':\n",
    "        return None\n",
    "    return label\n",
    "\n",
    "for start in range(0, len(sig) - win, step):\n",
    "    end = start + win\n",
    "    label = segment_label(start, end)\n",
    "    if label is None:\n",
    "        continue\n",
    "    segment = sig[start:end].astype(np.float32)\n",
    "    m = segment.mean()\n",
    "    s = segment.std() if segment.std() > 1e-6 else 1.0\n",
    "    segment = (segment - m) / s\n",
    "    X.append(segment)\n",
    "    y.append(label)\n",
    "\n",
    "X = np.stack(X)\n",
    "y = np.array(y)\n",
    "\n",
    "print(\"✅ Segmentation finished for record 203\")\n",
    "print(\"Segments:\", X.shape)\n",
    "print(\"Labels:\", y.shape)\n",
    "print(\"Label counts:\", Counter(y))\n",
    "\n",
    "# Save to file\n",
    "os.makedirs(\"../data/segments\", exist_ok=True)\n",
    "np.savez(\"../data/segments/record203_10s_overlap50.npz\", X=X, y=y)\n",
    "print(\"✅ Saved: record203_10s_overlap50.npz\")\n"
   ]
  },
  {
   "cell_type": "code",
   "execution_count": 8,
   "id": "80e65e66",
   "metadata": {},
   "outputs": [
    {
     "name": "stdout",
     "output_type": "stream",
     "text": [
      "✅ Segmentation finished for record 208\n",
      "Segments: (114, 3600)\n",
      "Labels: (114,)\n",
      "Label counts: Counter({np.str_('NSR'): 104, np.str_('PVC'): 10})\n",
      "✅ Saved: record208_10s_overlap50.npz\n"
     ]
    }
   ],
   "source": [
    "# STEP: Load record 208 and annotations\n",
    "import wfdb\n",
    "import numpy as np\n",
    "from collections import Counter\n",
    "import os\n",
    "\n",
    "record = wfdb.rdrecord(\"../data/208\")\n",
    "fs = int(record.fs)\n",
    "sig = record.p_signal[:, 0]\n",
    "\n",
    "ann = wfdb.rdann(\"../data/208\", \"atr\")\n",
    "\n",
    "beat_samples = np.array(ann.sample, dtype=int)\n",
    "beat_symbols = ann.symbol\n",
    "\n",
    "# Map beat symbols to class labels\n",
    "beat_to_class = {\n",
    "    'N': 'NSR', 'L': 'NSR', 'R': 'NSR', 'e': 'NSR', 'j': 'NSR',\n",
    "    'A': 'PAC', 'a': 'PAC', 'J': 'PAC', 'S': 'PAC',\n",
    "    'V': 'PVC', 'E': 'PVC',\n",
    "}\n",
    "\n",
    "def map_symbol(sym):\n",
    "    return beat_to_class.get(sym, 'OTHER')\n",
    "\n",
    "beat_classes = [map_symbol(s) for s in beat_symbols]\n",
    "\n",
    "# Segment the ECG\n",
    "window_sec = 10\n",
    "step_sec = 5\n",
    "win = window_sec * fs\n",
    "step = step_sec * fs\n",
    "\n",
    "X = []\n",
    "y = []\n",
    "\n",
    "def segment_label(start, end):\n",
    "    idx = np.where((beat_samples >= start) & (beat_samples < end))[0]\n",
    "    if len(idx) == 0:\n",
    "        return None\n",
    "    labels = [beat_classes[i] for i in idx]\n",
    "    c = Counter(labels)\n",
    "    label, count = c.most_common(1)[0]\n",
    "    if count / len(labels) < 0.6 or label == 'OTHER':\n",
    "        return None\n",
    "    return label\n",
    "\n",
    "for start in range(0, len(sig) - win, step):\n",
    "    end = start + win\n",
    "    label = segment_label(start, end)\n",
    "    if label is None:\n",
    "        continue\n",
    "    segment = sig[start:end].astype(np.float32)\n",
    "    m = segment.mean()\n",
    "    s = segment.std() if segment.std() > 1e-6 else 1.0\n",
    "    segment = (segment - m) / s\n",
    "    X.append(segment)\n",
    "    y.append(label)\n",
    "\n",
    "X = np.stack(X)\n",
    "y = np.array(y)\n",
    "\n",
    "print(\"✅ Segmentation finished for record 208\")\n",
    "print(\"Segments:\", X.shape)\n",
    "print(\"Labels:\", y.shape)\n",
    "print(\"Label counts:\", Counter(y))\n",
    "\n",
    "# Save to file\n",
    "os.makedirs(\"../data/segments\", exist_ok=True)\n",
    "np.savez(\"../data/segments/record208_10s_overlap50.npz\", X=X, y=y)\n",
    "print(\"✅ Saved: record208_10s_overlap50.npz\")\n"
   ]
  },
  {
   "cell_type": "code",
   "execution_count": 2,
   "id": "0fbf748c",
   "metadata": {},
   "outputs": [],
   "source": [
    "# Group similar beats into 3 major classes\n",
    "beat_to_class = {\n",
    "    'N': 'NSR',   # Normal\n",
    "    'L': 'NSR', 'R': 'NSR', 'e': 'NSR', 'j': 'NSR',\n",
    "    'A': 'PAC',   # Premature atrial contraction\n",
    "    'a': 'PAC', 'J': 'PAC', 'S': 'PAC',\n",
    "    'V': 'PVC',   # Premature ventricular contraction\n",
    "    'E': 'PVC',\n",
    "}\n",
    "\n",
    "def map_symbol(sym):\n",
    "    return beat_to_class.get(sym, 'OTHER')\n",
    "\n",
    "beat_classes = [map_symbol(s) for s in beat_symbols]\n",
    "\n"
   ]
  },
  {
   "cell_type": "code",
   "execution_count": 3,
   "id": "a638e20b",
   "metadata": {},
   "outputs": [
    {
     "name": "stdout",
     "output_type": "stream",
     "text": [
      "Segments: (360, 3600) Labels: (360,)\n",
      "Label counts: Counter({np.str_('NSR'): 360})\n"
     ]
    }
   ],
   "source": [
    "window_sec = 10\n",
    "step_sec = 5\n",
    "win = window_sec * fs\n",
    "step = step_sec * fs\n",
    "\n",
    "X = []\n",
    "y = []\n",
    "\n",
    "def segment_label(start, end):\n",
    "    idx = np.where((beat_samples >= start) & (beat_samples < end))[0]\n",
    "    if len(idx) == 0:\n",
    "        return None\n",
    "    labels = [beat_classes[i] for i in idx]\n",
    "    c = Counter(labels)\n",
    "    label, count = c.most_common(1)[0]\n",
    "    if count / len(labels) < 0.6:\n",
    "        return None\n",
    "    if label == \"OTHER\":\n",
    "        return None\n",
    "    return label\n",
    "\n",
    "for start in range(0, len(sig) - win, step):\n",
    "    end = start + win\n",
    "    label = segment_label(start, end)\n",
    "    if label is None:\n",
    "        continue\n",
    "    segment = sig[start:end].astype(np.float32)\n",
    "    # Normalize\n",
    "    m = segment.mean()\n",
    "    s = segment.std() if segment.std() > 1e-6 else 1.0\n",
    "    segment = (segment - m) / s\n",
    "    X.append(segment)\n",
    "    y.append(label)\n",
    "\n",
    "X = np.stack(X)\n",
    "y = np.array(y)\n",
    "print(\"Segments:\", X.shape, \"Labels:\", y.shape)\n",
    "print(\"Label counts:\", Counter(y))\n"
   ]
  },
  {
   "cell_type": "code",
   "execution_count": 4,
   "id": "acda9d4f",
   "metadata": {},
   "outputs": [
    {
     "name": "stdout",
     "output_type": "stream",
     "text": [
      "✅ Dataset saved at: ../data/segments/record100_10s_overlap50.npz\n"
     ]
    }
   ],
   "source": [
    "import os\n",
    "os.makedirs(\"../data/segments\", exist_ok=True)\n",
    "np.savez(\"../data/segments/record100_10s_overlap50.npz\", X=X, y=y)\n",
    "print(\"✅ Dataset saved at: ../data/segments/record100_10s_overlap50.npz\")\n"
   ]
  },
  {
   "cell_type": "code",
   "execution_count": 5,
   "id": "62947a29",
   "metadata": {},
   "outputs": [
    {
     "name": "stdout",
     "output_type": "stream",
     "text": [
      "Downloading record 200...\n",
      "Generating record list for: 200\n",
      "Generating list of all files for: 200\n",
      "Downloading files...\n",
      "Finished downloading files\n",
      "Downloading record 203...\n",
      "Generating record list for: 203\n",
      "Generating list of all files for: 203\n",
      "Downloading files...\n",
      "Finished downloading files\n",
      "Downloading record 208...\n",
      "Generating record list for: 208\n",
      "Generating list of all files for: 208\n",
      "Downloading files...\n",
      "Finished downloading files\n"
     ]
    }
   ],
   "source": [
    "import wfdb\n",
    "\n",
    "# Add arrhythmic records\n",
    "records = ['200', '203', '208']\n",
    "\n",
    "for rec in records:\n",
    "    print(f\"Downloading record {rec}...\")\n",
    "    wfdb.dl_database(\"mitdb\", dl_dir=\"../data\", records=[rec])\n"
   ]
  },
  {
   "cell_type": "code",
   "execution_count": 9,
   "id": "afdbe4e8",
   "metadata": {},
   "outputs": [
    {
     "name": "stdout",
     "output_type": "stream",
     "text": [
      "✅ Loaded record 100: 360 segments\n",
      "✅ Loaded record 200: 178 segments\n",
      "✅ Loaded record 203: 336 segments\n",
      "✅ Loaded record 208: 114 segments\n",
      "\n",
      "✅ All records combined\n",
      "Total Segments: (988, 3600)\n",
      "Total Labels: (988,)\n",
      "Class distribution: Counter({np.str_('NSR'): 976, np.str_('PVC'): 12})\n",
      "\n",
      "✅ Combined dataset saved at: ../data/segments/all_records_dataset.npz\n"
     ]
    }
   ],
   "source": [
    "import numpy as np\n",
    "from collections import Counter\n",
    "import os\n",
    "\n",
    "# Step 1: Load individual .npz segment files\n",
    "record_ids = [\"100\", \"200\", \"203\", \"208\"]\n",
    "X_all = []\n",
    "y_all = []\n",
    "\n",
    "for rid in record_ids:\n",
    "    path = f\"../data/segments/record{rid}_10s_overlap50.npz\"\n",
    "    if os.path.exists(path):\n",
    "        data = np.load(path)\n",
    "        X_all.append(data[\"X\"])\n",
    "        y_all.append(data[\"y\"])\n",
    "        print(f\"✅ Loaded record {rid}: {data['X'].shape[0]} segments\")\n",
    "    else:\n",
    "        print(f\"❌ Missing file for record {rid}\")\n",
    "\n",
    "# Step 2: Combine into one dataset\n",
    "X_all = np.concatenate(X_all, axis=0)\n",
    "y_all = np.concatenate(y_all, axis=0)\n",
    "\n",
    "print(\"\\n✅ All records combined\")\n",
    "print(\"Total Segments:\", X_all.shape)\n",
    "print(\"Total Labels:\", y_all.shape)\n",
    "print(\"Class distribution:\", Counter(y_all))\n",
    "\n",
    "# Step 3: Save the full dataset\n",
    "save_path = \"../data/segments/all_records_dataset.npz\"\n",
    "np.savez(save_path, X=X_all, y=y_all)\n",
    "print(f\"\\n✅ Combined dataset saved at: {save_path}\")\n"
   ]
  },
  {
   "cell_type": "code",
   "execution_count": 10,
   "id": "b30e2a93",
   "metadata": {},
   "outputs": [
    {
     "name": "stdout",
     "output_type": "stream",
     "text": [
      "✅ Dataset loaded and split:\n",
      "Train set: (790, 3600) (790,)\n",
      "Test set: (198, 3600) (198,)\n",
      "Class names: [np.str_('NSR'), np.str_('PVC')]\n"
     ]
    }
   ],
   "source": [
    "import numpy as np\n",
    "from sklearn.model_selection import train_test_split\n",
    "\n",
    "# Load the full dataset\n",
    "data = np.load(\"../data/segments/all_records_dataset.npz\")\n",
    "X = data[\"X\"]         # Shape: (988, 3600)\n",
    "y = data[\"y\"]         # Labels: 'NSR', 'PVC'\n",
    "\n",
    "# Convert class labels to integers\n",
    "from sklearn.preprocessing import LabelEncoder\n",
    "encoder = LabelEncoder()\n",
    "y_encoded = encoder.fit_transform(y)  # 'NSR' -> 0, 'PVC' -> 1\n",
    "\n",
    "# Train-test split (80% train, 20% test)\n",
    "X_train, X_test, y_train, y_test = train_test_split(\n",
    "    X, y_encoded, test_size=0.2, stratify=y_encoded, random_state=42\n",
    ")\n",
    "\n",
    "print(\"✅ Dataset loaded and split:\")\n",
    "print(\"Train set:\", X_train.shape, y_train.shape)\n",
    "print(\"Test set:\", X_test.shape, y_test.shape)\n",
    "print(\"Class names:\", list(encoder.classes_))  # ['NSR', 'PVC']\n"
   ]
  },
  {
   "cell_type": "code",
   "execution_count": 11,
   "id": "8d947122",
   "metadata": {},
   "outputs": [
    {
     "name": "stderr",
     "output_type": "stream",
     "text": [
      "c:\\Users\\husee\\ECG-Arrhythmia-Assistant\\venv\\Lib\\site-packages\\keras\\src\\layers\\convolutional\\base_conv.py:113: UserWarning: Do not pass an `input_shape`/`input_dim` argument to a layer. When using Sequential models, prefer using an `Input(shape)` object as the first layer in the model instead.\n",
      "  super().__init__(activity_regularizer=activity_regularizer, **kwargs)\n"
     ]
    },
    {
     "data": {
      "text/html": [
       "<pre style=\"white-space:pre;overflow-x:auto;line-height:normal;font-family:Menlo,'DejaVu Sans Mono',consolas,'Courier New',monospace\"><span style=\"font-weight: bold\">Model: \"sequential\"</span>\n",
       "</pre>\n"
      ],
      "text/plain": [
       "\u001b[1mModel: \"sequential\"\u001b[0m\n"
      ]
     },
     "metadata": {},
     "output_type": "display_data"
    },
    {
     "data": {
      "text/html": [
       "<pre style=\"white-space:pre;overflow-x:auto;line-height:normal;font-family:Menlo,'DejaVu Sans Mono',consolas,'Courier New',monospace\">┏━━━━━━━━━━━━━━━━━━━━━━━━━━━━━━━━━┳━━━━━━━━━━━━━━━━━━━━━━━━┳━━━━━━━━━━━━━━━┓\n",
       "┃<span style=\"font-weight: bold\"> Layer (type)                    </span>┃<span style=\"font-weight: bold\"> Output Shape           </span>┃<span style=\"font-weight: bold\">       Param # </span>┃\n",
       "┡━━━━━━━━━━━━━━━━━━━━━━━━━━━━━━━━━╇━━━━━━━━━━━━━━━━━━━━━━━━╇━━━━━━━━━━━━━━━┩\n",
       "│ conv1d (<span style=\"color: #0087ff; text-decoration-color: #0087ff\">Conv1D</span>)                 │ (<span style=\"color: #00d7ff; text-decoration-color: #00d7ff\">None</span>, <span style=\"color: #00af00; text-decoration-color: #00af00\">3596</span>, <span style=\"color: #00af00; text-decoration-color: #00af00\">16</span>)       │            <span style=\"color: #00af00; text-decoration-color: #00af00\">96</span> │\n",
       "├─────────────────────────────────┼────────────────────────┼───────────────┤\n",
       "│ max_pooling1d (<span style=\"color: #0087ff; text-decoration-color: #0087ff\">MaxPooling1D</span>)    │ (<span style=\"color: #00d7ff; text-decoration-color: #00d7ff\">None</span>, <span style=\"color: #00af00; text-decoration-color: #00af00\">1798</span>, <span style=\"color: #00af00; text-decoration-color: #00af00\">16</span>)       │             <span style=\"color: #00af00; text-decoration-color: #00af00\">0</span> │\n",
       "├─────────────────────────────────┼────────────────────────┼───────────────┤\n",
       "│ conv1d_1 (<span style=\"color: #0087ff; text-decoration-color: #0087ff\">Conv1D</span>)               │ (<span style=\"color: #00d7ff; text-decoration-color: #00d7ff\">None</span>, <span style=\"color: #00af00; text-decoration-color: #00af00\">1794</span>, <span style=\"color: #00af00; text-decoration-color: #00af00\">32</span>)       │         <span style=\"color: #00af00; text-decoration-color: #00af00\">2,592</span> │\n",
       "├─────────────────────────────────┼────────────────────────┼───────────────┤\n",
       "│ max_pooling1d_1 (<span style=\"color: #0087ff; text-decoration-color: #0087ff\">MaxPooling1D</span>)  │ (<span style=\"color: #00d7ff; text-decoration-color: #00d7ff\">None</span>, <span style=\"color: #00af00; text-decoration-color: #00af00\">897</span>, <span style=\"color: #00af00; text-decoration-color: #00af00\">32</span>)        │             <span style=\"color: #00af00; text-decoration-color: #00af00\">0</span> │\n",
       "├─────────────────────────────────┼────────────────────────┼───────────────┤\n",
       "│ conv1d_2 (<span style=\"color: #0087ff; text-decoration-color: #0087ff\">Conv1D</span>)               │ (<span style=\"color: #00d7ff; text-decoration-color: #00d7ff\">None</span>, <span style=\"color: #00af00; text-decoration-color: #00af00\">893</span>, <span style=\"color: #00af00; text-decoration-color: #00af00\">64</span>)        │        <span style=\"color: #00af00; text-decoration-color: #00af00\">10,304</span> │\n",
       "├─────────────────────────────────┼────────────────────────┼───────────────┤\n",
       "│ global_max_pooling1d            │ (<span style=\"color: #00d7ff; text-decoration-color: #00d7ff\">None</span>, <span style=\"color: #00af00; text-decoration-color: #00af00\">64</span>)             │             <span style=\"color: #00af00; text-decoration-color: #00af00\">0</span> │\n",
       "│ (<span style=\"color: #0087ff; text-decoration-color: #0087ff\">GlobalMaxPooling1D</span>)            │                        │               │\n",
       "├─────────────────────────────────┼────────────────────────┼───────────────┤\n",
       "│ dense (<span style=\"color: #0087ff; text-decoration-color: #0087ff\">Dense</span>)                   │ (<span style=\"color: #00d7ff; text-decoration-color: #00d7ff\">None</span>, <span style=\"color: #00af00; text-decoration-color: #00af00\">32</span>)             │         <span style=\"color: #00af00; text-decoration-color: #00af00\">2,080</span> │\n",
       "├─────────────────────────────────┼────────────────────────┼───────────────┤\n",
       "│ dense_1 (<span style=\"color: #0087ff; text-decoration-color: #0087ff\">Dense</span>)                 │ (<span style=\"color: #00d7ff; text-decoration-color: #00d7ff\">None</span>, <span style=\"color: #00af00; text-decoration-color: #00af00\">1</span>)              │            <span style=\"color: #00af00; text-decoration-color: #00af00\">33</span> │\n",
       "└─────────────────────────────────┴────────────────────────┴───────────────┘\n",
       "</pre>\n"
      ],
      "text/plain": [
       "┏━━━━━━━━━━━━━━━━━━━━━━━━━━━━━━━━━┳━━━━━━━━━━━━━━━━━━━━━━━━┳━━━━━━━━━━━━━━━┓\n",
       "┃\u001b[1m \u001b[0m\u001b[1mLayer (type)                   \u001b[0m\u001b[1m \u001b[0m┃\u001b[1m \u001b[0m\u001b[1mOutput Shape          \u001b[0m\u001b[1m \u001b[0m┃\u001b[1m \u001b[0m\u001b[1m      Param #\u001b[0m\u001b[1m \u001b[0m┃\n",
       "┡━━━━━━━━━━━━━━━━━━━━━━━━━━━━━━━━━╇━━━━━━━━━━━━━━━━━━━━━━━━╇━━━━━━━━━━━━━━━┩\n",
       "│ conv1d (\u001b[38;5;33mConv1D\u001b[0m)                 │ (\u001b[38;5;45mNone\u001b[0m, \u001b[38;5;34m3596\u001b[0m, \u001b[38;5;34m16\u001b[0m)       │            \u001b[38;5;34m96\u001b[0m │\n",
       "├─────────────────────────────────┼────────────────────────┼───────────────┤\n",
       "│ max_pooling1d (\u001b[38;5;33mMaxPooling1D\u001b[0m)    │ (\u001b[38;5;45mNone\u001b[0m, \u001b[38;5;34m1798\u001b[0m, \u001b[38;5;34m16\u001b[0m)       │             \u001b[38;5;34m0\u001b[0m │\n",
       "├─────────────────────────────────┼────────────────────────┼───────────────┤\n",
       "│ conv1d_1 (\u001b[38;5;33mConv1D\u001b[0m)               │ (\u001b[38;5;45mNone\u001b[0m, \u001b[38;5;34m1794\u001b[0m, \u001b[38;5;34m32\u001b[0m)       │         \u001b[38;5;34m2,592\u001b[0m │\n",
       "├─────────────────────────────────┼────────────────────────┼───────────────┤\n",
       "│ max_pooling1d_1 (\u001b[38;5;33mMaxPooling1D\u001b[0m)  │ (\u001b[38;5;45mNone\u001b[0m, \u001b[38;5;34m897\u001b[0m, \u001b[38;5;34m32\u001b[0m)        │             \u001b[38;5;34m0\u001b[0m │\n",
       "├─────────────────────────────────┼────────────────────────┼───────────────┤\n",
       "│ conv1d_2 (\u001b[38;5;33mConv1D\u001b[0m)               │ (\u001b[38;5;45mNone\u001b[0m, \u001b[38;5;34m893\u001b[0m, \u001b[38;5;34m64\u001b[0m)        │        \u001b[38;5;34m10,304\u001b[0m │\n",
       "├─────────────────────────────────┼────────────────────────┼───────────────┤\n",
       "│ global_max_pooling1d            │ (\u001b[38;5;45mNone\u001b[0m, \u001b[38;5;34m64\u001b[0m)             │             \u001b[38;5;34m0\u001b[0m │\n",
       "│ (\u001b[38;5;33mGlobalMaxPooling1D\u001b[0m)            │                        │               │\n",
       "├─────────────────────────────────┼────────────────────────┼───────────────┤\n",
       "│ dense (\u001b[38;5;33mDense\u001b[0m)                   │ (\u001b[38;5;45mNone\u001b[0m, \u001b[38;5;34m32\u001b[0m)             │         \u001b[38;5;34m2,080\u001b[0m │\n",
       "├─────────────────────────────────┼────────────────────────┼───────────────┤\n",
       "│ dense_1 (\u001b[38;5;33mDense\u001b[0m)                 │ (\u001b[38;5;45mNone\u001b[0m, \u001b[38;5;34m1\u001b[0m)              │            \u001b[38;5;34m33\u001b[0m │\n",
       "└─────────────────────────────────┴────────────────────────┴───────────────┘\n"
      ]
     },
     "metadata": {},
     "output_type": "display_data"
    },
    {
     "data": {
      "text/html": [
       "<pre style=\"white-space:pre;overflow-x:auto;line-height:normal;font-family:Menlo,'DejaVu Sans Mono',consolas,'Courier New',monospace\"><span style=\"font-weight: bold\"> Total params: </span><span style=\"color: #00af00; text-decoration-color: #00af00\">15,105</span> (59.00 KB)\n",
       "</pre>\n"
      ],
      "text/plain": [
       "\u001b[1m Total params: \u001b[0m\u001b[38;5;34m15,105\u001b[0m (59.00 KB)\n"
      ]
     },
     "metadata": {},
     "output_type": "display_data"
    },
    {
     "data": {
      "text/html": [
       "<pre style=\"white-space:pre;overflow-x:auto;line-height:normal;font-family:Menlo,'DejaVu Sans Mono',consolas,'Courier New',monospace\"><span style=\"font-weight: bold\"> Trainable params: </span><span style=\"color: #00af00; text-decoration-color: #00af00\">15,105</span> (59.00 KB)\n",
       "</pre>\n"
      ],
      "text/plain": [
       "\u001b[1m Trainable params: \u001b[0m\u001b[38;5;34m15,105\u001b[0m (59.00 KB)\n"
      ]
     },
     "metadata": {},
     "output_type": "display_data"
    },
    {
     "data": {
      "text/html": [
       "<pre style=\"white-space:pre;overflow-x:auto;line-height:normal;font-family:Menlo,'DejaVu Sans Mono',consolas,'Courier New',monospace\"><span style=\"font-weight: bold\"> Non-trainable params: </span><span style=\"color: #00af00; text-decoration-color: #00af00\">0</span> (0.00 B)\n",
       "</pre>\n"
      ],
      "text/plain": [
       "\u001b[1m Non-trainable params: \u001b[0m\u001b[38;5;34m0\u001b[0m (0.00 B)\n"
      ]
     },
     "metadata": {},
     "output_type": "display_data"
    }
   ],
   "source": [
    "import tensorflow as tf\n",
    "from tensorflow.keras import layers, models\n",
    "\n",
    "# Reshape input for CNN: (samples, time_steps, channels)\n",
    "X_train_cnn = X_train[..., np.newaxis]\n",
    "X_test_cnn = X_test[..., np.newaxis]\n",
    "\n",
    "# Build the model\n",
    "model = models.Sequential([\n",
    "    layers.Conv1D(16, kernel_size=5, activation='relu', input_shape=(3600, 1)),\n",
    "    layers.MaxPooling1D(pool_size=2),\n",
    "    layers.Conv1D(32, kernel_size=5, activation='relu'),\n",
    "    layers.MaxPooling1D(pool_size=2),\n",
    "    layers.Conv1D(64, kernel_size=5, activation='relu'),\n",
    "    layers.GlobalMaxPooling1D(),\n",
    "    layers.Dense(32, activation='relu'),\n",
    "    layers.Dense(1, activation='sigmoid')  # Binary classification: NSR or PVC\n",
    "])\n",
    "\n",
    "# Compile it\n",
    "model.compile(optimizer='adam',\n",
    "              loss='binary_crossentropy',\n",
    "              metrics=['accuracy'])\n",
    "\n",
    "model.summary()\n"
   ]
  },
  {
   "cell_type": "code",
   "execution_count": 17,
   "id": "c1adb369",
   "metadata": {},
   "outputs": [
    {
     "name": "stdout",
     "output_type": "stream",
     "text": [
      "✅ Class Weights: {0: np.float64(0.5064102564102564), 1: np.float64(39.5)}\n"
     ]
    }
   ],
   "source": [
    "from sklearn.utils import class_weight\n",
    "import numpy as np\n",
    "\n",
    "# y_train already contains 0 (NSR) and 1 (PVC)\n",
    "y_train_int = y_train  # Already numerical\n",
    "\n",
    "# Compute class weights\n",
    "weights = class_weight.compute_class_weight(\n",
    "    class_weight='balanced',\n",
    "    classes=np.unique(y_train_int),\n",
    "    y=y_train_int\n",
    ")\n",
    "\n",
    "class_weights = {i: w for i, w in enumerate(weights)}\n",
    "print(\"✅ Class Weights:\", class_weights)\n"
   ]
  },
  {
   "cell_type": "code",
   "execution_count": 18,
   "id": "367f142d",
   "metadata": {},
   "outputs": [
    {
     "name": "stdout",
     "output_type": "stream",
     "text": [
      "Epoch 1/20\n",
      "\u001b[1m25/25\u001b[0m \u001b[32m━━━━━━━━━━━━━━━━━━━━\u001b[0m\u001b[37m\u001b[0m \u001b[1m2s\u001b[0m 38ms/step - accuracy: 0.5911 - loss: 0.7268 - val_accuracy: 0.9899 - val_loss: 0.1974\n",
      "Epoch 2/20\n",
      "\u001b[1m25/25\u001b[0m \u001b[32m━━━━━━━━━━━━━━━━━━━━\u001b[0m\u001b[37m\u001b[0m \u001b[1m1s\u001b[0m 39ms/step - accuracy: 0.7810 - loss: 0.6783 - val_accuracy: 0.6212 - val_loss: 0.5300\n",
      "Epoch 3/20\n",
      "\u001b[1m25/25\u001b[0m \u001b[32m━━━━━━━━━━━━━━━━━━━━\u001b[0m\u001b[37m\u001b[0m \u001b[1m1s\u001b[0m 40ms/step - accuracy: 0.9418 - loss: 0.6114 - val_accuracy: 0.7828 - val_loss: 0.4760\n",
      "Epoch 4/20\n",
      "\u001b[1m25/25\u001b[0m \u001b[32m━━━━━━━━━━━━━━━━━━━━\u001b[0m\u001b[37m\u001b[0m \u001b[1m1s\u001b[0m 40ms/step - accuracy: 0.6253 - loss: 0.5433 - val_accuracy: 0.8737 - val_loss: 0.3325\n",
      "Epoch 5/20\n",
      "\u001b[1m25/25\u001b[0m \u001b[32m━━━━━━━━━━━━━━━━━━━━\u001b[0m\u001b[37m\u001b[0m \u001b[1m1s\u001b[0m 42ms/step - accuracy: 0.8342 - loss: 0.4705 - val_accuracy: 0.6818 - val_loss: 0.5215\n",
      "Epoch 6/20\n",
      "\u001b[1m25/25\u001b[0m \u001b[32m━━━━━━━━━━━━━━━━━━━━\u001b[0m\u001b[37m\u001b[0m \u001b[1m1s\u001b[0m 44ms/step - accuracy: 0.7291 - loss: 0.4186 - val_accuracy: 0.9596 - val_loss: 0.1958\n",
      "Epoch 7/20\n",
      "\u001b[1m25/25\u001b[0m \u001b[32m━━━━━━━━━━━━━━━━━━━━\u001b[0m\u001b[37m\u001b[0m \u001b[1m1s\u001b[0m 40ms/step - accuracy: 0.8101 - loss: 0.3891 - val_accuracy: 0.6515 - val_loss: 0.5942\n",
      "Epoch 8/20\n",
      "\u001b[1m25/25\u001b[0m \u001b[32m━━━━━━━━━━━━━━━━━━━━\u001b[0m\u001b[37m\u001b[0m \u001b[1m1s\u001b[0m 40ms/step - accuracy: 0.8595 - loss: 0.3655 - val_accuracy: 0.8030 - val_loss: 0.3707\n",
      "Epoch 9/20\n",
      "\u001b[1m25/25\u001b[0m \u001b[32m━━━━━━━━━━━━━━━━━━━━\u001b[0m\u001b[37m\u001b[0m \u001b[1m1s\u001b[0m 38ms/step - accuracy: 0.7911 - loss: 0.3463 - val_accuracy: 0.9495 - val_loss: 0.1615\n",
      "Epoch 10/20\n",
      "\u001b[1m25/25\u001b[0m \u001b[32m━━━━━━━━━━━━━━━━━━━━\u001b[0m\u001b[37m\u001b[0m \u001b[1m1s\u001b[0m 39ms/step - accuracy: 0.8886 - loss: 0.2746 - val_accuracy: 0.6970 - val_loss: 0.5482\n",
      "Epoch 11/20\n",
      "\u001b[1m25/25\u001b[0m \u001b[32m━━━━━━━━━━━━━━━━━━━━\u001b[0m\u001b[37m\u001b[0m \u001b[1m1s\u001b[0m 42ms/step - accuracy: 0.8494 - loss: 0.2275 - val_accuracy: 0.9646 - val_loss: 0.0764\n",
      "Epoch 12/20\n",
      "\u001b[1m25/25\u001b[0m \u001b[32m━━━━━━━━━━━━━━━━━━━━\u001b[0m\u001b[37m\u001b[0m \u001b[1m1s\u001b[0m 47ms/step - accuracy: 0.8582 - loss: 0.4198 - val_accuracy: 0.9899 - val_loss: 0.0917\n",
      "Epoch 13/20\n",
      "\u001b[1m25/25\u001b[0m \u001b[32m━━━━━━━━━━━━━━━━━━━━\u001b[0m\u001b[37m\u001b[0m \u001b[1m1s\u001b[0m 49ms/step - accuracy: 0.8354 - loss: 0.2825 - val_accuracy: 0.9343 - val_loss: 0.1783\n",
      "Epoch 14/20\n",
      "\u001b[1m25/25\u001b[0m \u001b[32m━━━━━━━━━━━━━━━━━━━━\u001b[0m\u001b[37m\u001b[0m \u001b[1m1s\u001b[0m 38ms/step - accuracy: 0.9051 - loss: 0.2607 - val_accuracy: 0.8788 - val_loss: 0.2701\n",
      "Epoch 15/20\n",
      "\u001b[1m25/25\u001b[0m \u001b[32m━━━━━━━━━━━━━━━━━━━━\u001b[0m\u001b[37m\u001b[0m \u001b[1m1s\u001b[0m 39ms/step - accuracy: 0.8747 - loss: 0.2275 - val_accuracy: 0.9646 - val_loss: 0.1100\n",
      "Epoch 16/20\n",
      "\u001b[1m25/25\u001b[0m \u001b[32m━━━━━━━━━━━━━━━━━━━━\u001b[0m\u001b[37m\u001b[0m \u001b[1m1s\u001b[0m 39ms/step - accuracy: 0.8316 - loss: 0.3324 - val_accuracy: 0.9343 - val_loss: 0.2138\n",
      "Epoch 17/20\n",
      "\u001b[1m25/25\u001b[0m \u001b[32m━━━━━━━━━━━━━━━━━━━━\u001b[0m\u001b[37m\u001b[0m \u001b[1m1s\u001b[0m 41ms/step - accuracy: 0.9025 - loss: 0.2673 - val_accuracy: 0.8283 - val_loss: 0.3574\n",
      "Epoch 18/20\n",
      "\u001b[1m25/25\u001b[0m \u001b[32m━━━━━━━━━━━━━━━━━━━━\u001b[0m\u001b[37m\u001b[0m \u001b[1m1s\u001b[0m 39ms/step - accuracy: 0.9190 - loss: 0.2384 - val_accuracy: 0.8939 - val_loss: 0.2626\n",
      "Epoch 19/20\n",
      "\u001b[1m25/25\u001b[0m \u001b[32m━━━━━━━━━━━━━━━━━━━━\u001b[0m\u001b[37m\u001b[0m \u001b[1m1s\u001b[0m 39ms/step - accuracy: 0.8861 - loss: 0.2082 - val_accuracy: 0.9596 - val_loss: 0.1525\n",
      "Epoch 20/20\n",
      "\u001b[1m25/25\u001b[0m \u001b[32m━━━━━━━━━━━━━━━━━━━━\u001b[0m\u001b[37m\u001b[0m \u001b[1m1s\u001b[0m 38ms/step - accuracy: 0.9582 - loss: 0.1780 - val_accuracy: 0.9040 - val_loss: 0.2389\n"
     ]
    }
   ],
   "source": [
    "# Train the model with class weights\n",
    "history = model.fit(\n",
    "    X_train_cnn, y_train,\n",
    "    epochs=20,\n",
    "    batch_size=32,\n",
    "    validation_data=(X_test_cnn, y_test),\n",
    "    class_weight=class_weights  # ✅ This is the key change\n",
    ")\n"
   ]
  },
  {
   "cell_type": "code",
   "execution_count": 13,
   "id": "e9dfaf91",
   "metadata": {},
   "outputs": [
    {
     "data": {
      "image/png": "[encoded data removed]",
      "text/plain": [
       "<Figure size 1200x400 with 2 Axes>"
      ]
     },
     "metadata": {},
     "output_type": "display_data"
    }
   ],
   "source": [
    "import matplotlib.pyplot as plt\n",
    "\n",
    "# Plot accuracy\n",
    "plt.figure(figsize=(12, 4))\n",
    "plt.subplot(1, 2, 1)\n",
    "plt.plot(history.history['accuracy'], label='Train Accuracy')\n",
    "plt.plot(history.history['val_accuracy'], label='Validation Accuracy')\n",
    "plt.xlabel(\"Epoch\")\n",
    "plt.ylabel(\"Accuracy\")\n",
    "plt.title(\"Model Accuracy\")\n",
    "plt.legend()\n",
    "plt.grid(True)\n",
    "\n",
    "# Plot loss\n",
    "plt.subplot(1, 2, 2)\n",
    "plt.plot(history.history['loss'], label='Train Loss')\n",
    "plt.plot(history.history['val_loss'], label='Validation Loss')\n",
    "plt.xlabel(\"Epoch\")\n",
    "plt.ylabel(\"Loss\")\n",
    "plt.title(\"Model Loss\")\n",
    "plt.legend()\n",
    "plt.grid(True)\n",
    "\n",
    "plt.tight_layout()\n",
    "plt.show()\n"
   ]
  },
  {
   "cell_type": "code",
   "execution_count": 19,
   "id": "56dd9c1d",
   "metadata": {},
   "outputs": [
    {
     "name": "stdout",
     "output_type": "stream",
     "text": [
      "\u001b[1m7/7\u001b[0m \u001b[32m━━━━━━━━━━━━━━━━━━━━\u001b[0m\u001b[37m\u001b[0m \u001b[1m0s\u001b[0m 14ms/step\n",
      "Classification Report:\n",
      "              precision    recall  f1-score   support\n",
      "\n",
      "         NSR       1.00      0.90      0.95       196\n",
      "         PVC       0.10      1.00      0.17         2\n",
      "\n",
      "    accuracy                           0.90       198\n",
      "   macro avg       0.55      0.95      0.56       198\n",
      "weighted avg       0.99      0.90      0.94       198\n",
      "\n"
     ]
    },
    {
     "data": {
      "text/plain": [
       "<sklearn.metrics._plot.confusion_matrix.ConfusionMatrixDisplay at 0x1a651b13150>"
      ]
     },
     "execution_count": 19,
     "metadata": {},
     "output_type": "execute_result"
    },
    {
     "data": {
      "image/png": "[encoded data removed]",
      "text/plain": [
       "<Figure size 640x480 with 2 Axes>"
      ]
     },
     "metadata": {},
     "output_type": "display_data"
    }
   ],
   "source": [
    "from sklearn.metrics import classification_report, confusion_matrix, ConfusionMatrixDisplay\n",
    "\n",
    "# Define class names\n",
    "class_names = [str('NSR'), str('PVC')]\n",
    "\n",
    "# Predict on test set\n",
    "y_pred_prob = model.predict(X_test)\n",
    "y_pred = (y_pred_prob > 0.5).astype(int).flatten()\n",
    "\n",
    "# Classification report\n",
    "print(\"Classification Report:\")\n",
    "print(classification_report(y_test, y_pred, target_names=class_names))\n",
    "\n",
    "# Confusion matrix\n",
    "cm = confusion_matrix(y_test, y_pred)\n",
    "disp = ConfusionMatrixDisplay(confusion_matrix=cm, display_labels=class_names)\n",
    "disp.plot(cmap=\"Blues\")\n"
   ]
  }
 ],
 "metadata": {
  "kernelspec": {
   "display_name": "venv",
   "language": "python",
   "name": "python3"
  },
  "language_info": {
   "codemirror_mode": {
    "name": "ipython",
    "version": 3
   },
   "file_extension": ".py",
   "mimetype": "text/x-python",
   "name": "python",
   "nbconvert_exporter": "python",
   "pygments_lexer": "ipython3",
   "version": "3.11.1"
  }
 },
 "nbformat": 4,
 "nbformat_minor": 5
}
